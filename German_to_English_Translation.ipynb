{
  "metadata": {
    "kernelspec": {
      "language": "python",
      "display_name": "Python 3",
      "name": "python3"
    },
    "language_info": {
      "name": "python",
      "version": "3.10.14",
      "mimetype": "text/x-python",
      "codemirror_mode": {
        "name": "ipython",
        "version": 3
      },
      "pygments_lexer": "ipython3",
      "nbconvert_exporter": "python",
      "file_extension": ".py"
    },
    "kaggle": {
      "accelerator": "gpu",
      "dataSources": [
        {
          "sourceId": 915247,
          "sourceType": "datasetVersion",
          "datasetId": 492069
        },
        {
          "sourceId": 2316852,
          "sourceType": "datasetVersion",
          "datasetId": 1398268
        },
        {
          "sourceId": 194170859,
          "sourceType": "kernelVersion"
        }
      ],
      "dockerImageVersionId": 30761,
      "isInternetEnabled": true,
      "language": "python",
      "sourceType": "notebook",
      "isGpuEnabled": true
    },
    "colab": {
      "name": "German to English Translation",
      "provenance": [],
      "include_colab_link": true
    }
  },
  "nbformat_minor": 0,
  "nbformat": 4,
  "cells": [
    {
      "cell_type": "markdown",
      "metadata": {
        "id": "view-in-github",
        "colab_type": "text"
      },
      "source": [
        "<a href=\"https://colab.research.google.com/github/lamazakaria/German_to_English_Translation-/blob/main/German_to_English_Translation.ipynb\" target=\"_parent\"><img src=\"https://colab.research.google.com/assets/colab-badge.svg\" alt=\"Open In Colab\"/></a>"
      ]
    },
    {
      "source": [
        "\n",
        "# IMPORTANT: RUN THIS CELL IN ORDER TO IMPORT YOUR KAGGLE DATA SOURCES\n",
        "# TO THE CORRECT LOCATION (/kaggle/input) IN YOUR NOTEBOOK,\n",
        "# THEN FEEL FREE TO DELETE THIS CELL.\n",
        "# NOTE: THIS NOTEBOOK ENVIRONMENT DIFFERS FROM KAGGLE'S PYTHON\n",
        "# ENVIRONMENT SO THERE MAY BE MISSING LIBRARIES USED BY YOUR\n",
        "# NOTEBOOK.\n",
        "\n",
        "import os\n",
        "import sys\n",
        "from tempfile import NamedTemporaryFile\n",
        "from urllib.request import urlopen\n",
        "from urllib.parse import unquote, urlparse\n",
        "from urllib.error import HTTPError\n",
        "from zipfile import ZipFile\n",
        "import tarfile\n",
        "import shutil\n",
        "\n",
        "CHUNK_SIZE = 40960\n",
        "DATA_SOURCE_MAPPING = 'arabic-to-english-translation-sentences:https%3A%2F%2Fstorage.googleapis.com%2Fkaggle-data-sets%2F492069%2F915247%2Fbundle%2Farchive.zip%3FX-Goog-Algorithm%3DGOOG4-RSA-SHA256%26X-Goog-Credential%3Dgcp-kaggle-com%2540kaggle-161607.iam.gserviceaccount.com%252F20240831%252Fauto%252Fstorage%252Fgoog4_request%26X-Goog-Date%3D20240831T152101Z%26X-Goog-Expires%3D259200%26X-Goog-SignedHeaders%3Dhost%26X-Goog-Signature%3Dcbaef7c9c59dd60ffb7eaaff178021bb63fc937bd11c02dad5723a9f760b2dacd706768d2d9803f343f94dc3da2fa1e3bcb20afbdca07f1cad1389275e686099afd08f444380685821af96d45a53d1f8956fda8ff2c211d56bcf6d326b60ccd4e5486c7d33f5a9100db3d3e696d53836604f968e66be51a7bf8eb1c10cedf776ce66133e8c220b6392ce7a9e92a21be7dbc491c4844202776de1b914772dfb224b2d7071da8c9b3e18556f98386c88256df0959c90641e868d2acf9b9c7256c1be75b435098ae7cf48835c067db8260681cf58889737df5ea9554978b5674812638f2d687a7615d106cbaa199fd866a140966b786daf787b57f8de976c58133a,german-english-neural-machine-translation-dataset:https%3A%2F%2Fstorage.googleapis.com%2Fkaggle-data-sets%2F1398268%2F2316852%2Fbundle%2Farchive.zip%3FX-Goog-Algorithm%3DGOOG4-RSA-SHA256%26X-Goog-Credential%3Dgcp-kaggle-com%2540kaggle-161607.iam.gserviceaccount.com%252F20240831%252Fauto%252Fstorage%252Fgoog4_request%26X-Goog-Date%3D20240831T152101Z%26X-Goog-Expires%3D259200%26X-Goog-SignedHeaders%3Dhost%26X-Goog-Signature%3D9b5a30d6a6d5fe83b808312d18a56b6bcb7a03adffea3f32e0727a3d889d2365c0a7b7b3c0fa433e61660839cdfae303994c41f2034a406950c8137af6968f70cc90bff6b08e275794a8159be69609f049577c8226dbbbf30d8f3b8be0af520ec085742c4d8774086cf9095296361647427c5eece3923ea2652ff6fafbdee1a173bba98d0c822bb9e58d58de2325f3769231847cc1a742aea168240f4154cac59a3b1a59f58a37dd9d9f2c7bdde4a9b183f7179a8ff5a2b9e62ddffddd0d40937a2176b90df16bdb12b6243b0085ac06c126eb27e3ab303a9abb56a7ffe14628aa164197e8c976bdea7997fd50249e907a6859cf80613f07289114159ad00bdb'\n",
        "\n",
        "KAGGLE_INPUT_PATH='/kaggle/input'\n",
        "KAGGLE_WORKING_PATH='/kaggle/working'\n",
        "KAGGLE_SYMLINK='kaggle'\n",
        "\n",
        "!umount /kaggle/input/ 2> /dev/null\n",
        "shutil.rmtree('/kaggle/input', ignore_errors=True)\n",
        "os.makedirs(KAGGLE_INPUT_PATH, 0o777, exist_ok=True)\n",
        "os.makedirs(KAGGLE_WORKING_PATH, 0o777, exist_ok=True)\n",
        "\n",
        "try:\n",
        "  os.symlink(KAGGLE_INPUT_PATH, os.path.join(\"..\", 'input'), target_is_directory=True)\n",
        "except FileExistsError:\n",
        "  pass\n",
        "try:\n",
        "  os.symlink(KAGGLE_WORKING_PATH, os.path.join(\"..\", 'working'), target_is_directory=True)\n",
        "except FileExistsError:\n",
        "  pass\n",
        "\n",
        "for data_source_mapping in DATA_SOURCE_MAPPING.split(','):\n",
        "    directory, download_url_encoded = data_source_mapping.split(':')\n",
        "    download_url = unquote(download_url_encoded)\n",
        "    filename = urlparse(download_url).path\n",
        "    destination_path = os.path.join(KAGGLE_INPUT_PATH, directory)\n",
        "    try:\n",
        "        with urlopen(download_url) as fileres, NamedTemporaryFile() as tfile:\n",
        "            total_length = fileres.headers['content-length']\n",
        "            print(f'Downloading {directory}, {total_length} bytes compressed')\n",
        "            dl = 0\n",
        "            data = fileres.read(CHUNK_SIZE)\n",
        "            while len(data) > 0:\n",
        "                dl += len(data)\n",
        "                tfile.write(data)\n",
        "                done = int(50 * dl / int(total_length))\n",
        "                sys.stdout.write(f\"\\r[{'=' * done}{' ' * (50-done)}] {dl} bytes downloaded\")\n",
        "                sys.stdout.flush()\n",
        "                data = fileres.read(CHUNK_SIZE)\n",
        "            if filename.endswith('.zip'):\n",
        "              with ZipFile(tfile) as zfile:\n",
        "                zfile.extractall(destination_path)\n",
        "            else:\n",
        "              with tarfile.open(tfile.name) as tarfile:\n",
        "                tarfile.extractall(destination_path)\n",
        "            print(f'\\nDownloaded and uncompressed: {directory}')\n",
        "    except HTTPError as e:\n",
        "        print(f'Failed to load (likely expired) {download_url} to path {destination_path}')\n",
        "        continue\n",
        "    except OSError as e:\n",
        "        print(f'Failed to load {download_url} to path {destination_path}')\n",
        "        continue\n",
        "\n",
        "print('Data source import complete.')\n"
      ],
      "metadata": {
        "id": "3fxr8La5BcQR"
      },
      "cell_type": "code",
      "outputs": [],
      "execution_count": null
    },
    {
      "cell_type": "code",
      "source": [
        "\n",
        "import numpy as np\n",
        "import pandas as pd\n",
        "import tensorflow as tf\n",
        "from tensorflow.data import Dataset\n",
        "tf.data.experimental.enable_debug_mode()\n"
      ],
      "metadata": {
        "_uuid": "8f2839f25d086af736a60e9eeb907d3b93b6e0e5",
        "_cell_guid": "b1076dfc-b9ad-4769-8c92-a6c4dae69d19",
        "execution": {
          "iopub.status.busy": "2024-08-31T11:35:12.22863Z",
          "iopub.execute_input": "2024-08-31T11:35:12.229004Z",
          "iopub.status.idle": "2024-08-31T11:35:15.65639Z",
          "shell.execute_reply.started": "2024-08-31T11:35:12.228967Z",
          "shell.execute_reply": "2024-08-31T11:35:15.655573Z"
        },
        "trusted": true,
        "id": "oMnZ4VddBcQS"
      },
      "execution_count": null,
      "outputs": []
    },
    {
      "cell_type": "code",
      "source": [
        "data = pd.read_csv(\"/kaggle/input/german-english-neural-machine-translation-dataset/GERMAN_ENGLISH_TRANSLATION.csv\",delimiter=',',names=[\"index\",\"English\",\"German\"])"
      ],
      "metadata": {
        "execution": {
          "iopub.status.busy": "2024-08-31T11:35:15.658027Z",
          "iopub.execute_input": "2024-08-31T11:35:15.658546Z",
          "iopub.status.idle": "2024-08-31T11:35:15.925468Z",
          "shell.execute_reply.started": "2024-08-31T11:35:15.65851Z",
          "shell.execute_reply": "2024-08-31T11:35:15.9244Z"
        },
        "trusted": true,
        "id": "Ey4vbeR8BcQT"
      },
      "execution_count": null,
      "outputs": []
    },
    {
      "cell_type": "code",
      "source": [
        "data.head(10)"
      ],
      "metadata": {
        "execution": {
          "iopub.status.busy": "2024-08-31T11:35:15.926742Z",
          "iopub.execute_input": "2024-08-31T11:35:15.92711Z",
          "iopub.status.idle": "2024-08-31T11:35:15.942323Z",
          "shell.execute_reply.started": "2024-08-31T11:35:15.927073Z",
          "shell.execute_reply": "2024-08-31T11:35:15.941399Z"
        },
        "trusted": true,
        "id": "o-ReRkC7BcQT",
        "outputId": "c836dcc4-1217-45b3-d277-4bdf66dd3749"
      },
      "execution_count": null,
      "outputs": [
        {
          "execution_count": 3,
          "output_type": "execute_result",
          "data": {
            "text/plain": "   index  English        German\n0    NaN  ENGLISH        GERMAN\n1    0.0       hi         hallo\n2    1.0       hi      gru gott\n3    2.0      run          lauf\n4    3.0      wow    potzdonner\n5    4.0      wow  donnerwetter\n6    5.0     fire         feuer\n7    6.0     help         hilfe\n8    7.0     help       zu hulf\n9    8.0     stop         stopp",
            "text/html": "<div>\n<style scoped>\n    .dataframe tbody tr th:only-of-type {\n        vertical-align: middle;\n    }\n\n    .dataframe tbody tr th {\n        vertical-align: top;\n    }\n\n    .dataframe thead th {\n        text-align: right;\n    }\n</style>\n<table border=\"1\" class=\"dataframe\">\n  <thead>\n    <tr style=\"text-align: right;\">\n      <th></th>\n      <th>index</th>\n      <th>English</th>\n      <th>German</th>\n    </tr>\n  </thead>\n  <tbody>\n    <tr>\n      <th>0</th>\n      <td>NaN</td>\n      <td>ENGLISH</td>\n      <td>GERMAN</td>\n    </tr>\n    <tr>\n      <th>1</th>\n      <td>0.0</td>\n      <td>hi</td>\n      <td>hallo</td>\n    </tr>\n    <tr>\n      <th>2</th>\n      <td>1.0</td>\n      <td>hi</td>\n      <td>gru gott</td>\n    </tr>\n    <tr>\n      <th>3</th>\n      <td>2.0</td>\n      <td>run</td>\n      <td>lauf</td>\n    </tr>\n    <tr>\n      <th>4</th>\n      <td>3.0</td>\n      <td>wow</td>\n      <td>potzdonner</td>\n    </tr>\n    <tr>\n      <th>5</th>\n      <td>4.0</td>\n      <td>wow</td>\n      <td>donnerwetter</td>\n    </tr>\n    <tr>\n      <th>6</th>\n      <td>5.0</td>\n      <td>fire</td>\n      <td>feuer</td>\n    </tr>\n    <tr>\n      <th>7</th>\n      <td>6.0</td>\n      <td>help</td>\n      <td>hilfe</td>\n    </tr>\n    <tr>\n      <th>8</th>\n      <td>7.0</td>\n      <td>help</td>\n      <td>zu hulf</td>\n    </tr>\n    <tr>\n      <th>9</th>\n      <td>8.0</td>\n      <td>stop</td>\n      <td>stopp</td>\n    </tr>\n  </tbody>\n</table>\n</div>"
          },
          "metadata": {}
        }
      ]
    },
    {
      "cell_type": "code",
      "source": [
        "data = data.dropna()"
      ],
      "metadata": {
        "execution": {
          "iopub.status.busy": "2024-08-31T11:35:15.943599Z",
          "iopub.execute_input": "2024-08-31T11:35:15.943927Z",
          "iopub.status.idle": "2024-08-31T11:35:15.984379Z",
          "shell.execute_reply.started": "2024-08-31T11:35:15.943894Z",
          "shell.execute_reply": "2024-08-31T11:35:15.983469Z"
        },
        "trusted": true,
        "id": "ed8P8zJYBcQU"
      },
      "execution_count": null,
      "outputs": []
    },
    {
      "cell_type": "code",
      "source": [
        "data = data.drop([\"index\"],axis=1)"
      ],
      "metadata": {
        "execution": {
          "iopub.status.busy": "2024-08-31T11:35:15.987754Z",
          "iopub.execute_input": "2024-08-31T11:35:15.988299Z",
          "iopub.status.idle": "2024-08-31T11:35:15.998947Z",
          "shell.execute_reply.started": "2024-08-31T11:35:15.988235Z",
          "shell.execute_reply": "2024-08-31T11:35:15.997989Z"
        },
        "trusted": true,
        "id": "I6XC6KJkBcQU"
      },
      "execution_count": null,
      "outputs": []
    },
    {
      "cell_type": "code",
      "source": [
        "data.head(10)"
      ],
      "metadata": {
        "execution": {
          "iopub.status.busy": "2024-08-31T11:35:16.000165Z",
          "iopub.execute_input": "2024-08-31T11:35:16.000548Z",
          "iopub.status.idle": "2024-08-31T11:35:16.013988Z",
          "shell.execute_reply.started": "2024-08-31T11:35:16.000502Z",
          "shell.execute_reply": "2024-08-31T11:35:16.012998Z"
        },
        "trusted": true,
        "id": "lgHB4JzjBcQU",
        "outputId": "f199aa5f-7078-4386-cc74-be52b612e56d"
      },
      "execution_count": null,
      "outputs": [
        {
          "execution_count": 6,
          "output_type": "execute_result",
          "data": {
            "text/plain": "   English        German\n1       hi         hallo\n2       hi      gru gott\n3      run          lauf\n4      wow    potzdonner\n5      wow  donnerwetter\n6     fire         feuer\n7     help         hilfe\n8     help       zu hulf\n9     stop         stopp\n10    wait         warte",
            "text/html": "<div>\n<style scoped>\n    .dataframe tbody tr th:only-of-type {\n        vertical-align: middle;\n    }\n\n    .dataframe tbody tr th {\n        vertical-align: top;\n    }\n\n    .dataframe thead th {\n        text-align: right;\n    }\n</style>\n<table border=\"1\" class=\"dataframe\">\n  <thead>\n    <tr style=\"text-align: right;\">\n      <th></th>\n      <th>English</th>\n      <th>German</th>\n    </tr>\n  </thead>\n  <tbody>\n    <tr>\n      <th>1</th>\n      <td>hi</td>\n      <td>hallo</td>\n    </tr>\n    <tr>\n      <th>2</th>\n      <td>hi</td>\n      <td>gru gott</td>\n    </tr>\n    <tr>\n      <th>3</th>\n      <td>run</td>\n      <td>lauf</td>\n    </tr>\n    <tr>\n      <th>4</th>\n      <td>wow</td>\n      <td>potzdonner</td>\n    </tr>\n    <tr>\n      <th>5</th>\n      <td>wow</td>\n      <td>donnerwetter</td>\n    </tr>\n    <tr>\n      <th>6</th>\n      <td>fire</td>\n      <td>feuer</td>\n    </tr>\n    <tr>\n      <th>7</th>\n      <td>help</td>\n      <td>hilfe</td>\n    </tr>\n    <tr>\n      <th>8</th>\n      <td>help</td>\n      <td>zu hulf</td>\n    </tr>\n    <tr>\n      <th>9</th>\n      <td>stop</td>\n      <td>stopp</td>\n    </tr>\n    <tr>\n      <th>10</th>\n      <td>wait</td>\n      <td>warte</td>\n    </tr>\n  </tbody>\n</table>\n</div>"
          },
          "metadata": {}
        }
      ]
    },
    {
      "cell_type": "code",
      "source": [
        "data.info"
      ],
      "metadata": {
        "execution": {
          "iopub.status.busy": "2024-08-31T11:35:16.015109Z",
          "iopub.execute_input": "2024-08-31T11:35:16.015405Z",
          "iopub.status.idle": "2024-08-31T11:35:16.027629Z",
          "shell.execute_reply.started": "2024-08-31T11:35:16.015373Z",
          "shell.execute_reply": "2024-08-31T11:35:16.026668Z"
        },
        "trusted": true,
        "id": "QRNmzVIjBcQV",
        "outputId": "d0db77b6-c6c2-45df-e7a1-e4132a60fb8d"
      },
      "execution_count": null,
      "outputs": [
        {
          "execution_count": 7,
          "output_type": "execute_result",
          "data": {
            "text/plain": "<bound method DataFrame.info of                                                   English  \\\n1                                                      hi   \n2                                                      hi   \n3                                                     run   \n4                                                     wow   \n5                                                     wow   \n...                                                   ...   \n152816  death is something that were often discouraged...   \n152817  at a moment when our economy is growing our bu...   \n152818  if someone who doesnt know your background say...   \n152819  if someone who doesnt know your background say...   \n152820  it may be impossible to get a completely error...   \n\n                                                   German  \n1                                                   hallo  \n2                                                gru gott  \n3                                                    lauf  \n4                                              potzdonner  \n5                                            donnerwetter  \n...                                                   ...  \n152816  wir werden oft davon abgehalten uber den tod z...  \n152817  in einem moment in dem unsere wirtschaft wachs...  \n152818  wenn jemand der deine herkunft nicht kennt sag...  \n152819  wenn jemand fremdes dir sagt dass du dich wie ...  \n152820  es ist wohl unmoglich einen vollkommen fehlerf...  \n\n[152820 rows x 2 columns]>"
          },
          "metadata": {}
        }
      ]
    },
    {
      "cell_type": "code",
      "source": [
        "data[\"source\"] = data[\"German\"].apply(lambda x:'[start]'+ x +'[end]')\n",
        "data[\"target\"] = data[\"English\"].apply(lambda x:'[start]'+ x +'[end]')\n",
        "data = data.drop([\"English\",\"German\"],axis=1)"
      ],
      "metadata": {
        "execution": {
          "iopub.status.busy": "2024-08-31T11:35:16.02897Z",
          "iopub.execute_input": "2024-08-31T11:35:16.029401Z",
          "iopub.status.idle": "2024-08-31T11:35:16.194926Z",
          "shell.execute_reply.started": "2024-08-31T11:35:16.029337Z",
          "shell.execute_reply": "2024-08-31T11:35:16.193893Z"
        },
        "trusted": true,
        "id": "h3YlzHHuBcQV"
      },
      "execution_count": null,
      "outputs": []
    },
    {
      "cell_type": "code",
      "source": [
        "data.head()"
      ],
      "metadata": {
        "execution": {
          "iopub.status.busy": "2024-08-31T11:35:16.196182Z",
          "iopub.execute_input": "2024-08-31T11:35:16.196519Z",
          "iopub.status.idle": "2024-08-31T11:35:16.206162Z",
          "shell.execute_reply.started": "2024-08-31T11:35:16.196485Z",
          "shell.execute_reply": "2024-08-31T11:35:16.205144Z"
        },
        "trusted": true,
        "id": "9jxKeNl_BcQV",
        "outputId": "71d8f39e-1d60-4a24-876f-eab685dd1753"
      },
      "execution_count": null,
      "outputs": [
        {
          "execution_count": 9,
          "output_type": "execute_result",
          "data": {
            "text/plain": "                     source           target\n1         [start]hallo[end]   [start]hi[end]\n2      [start]gru gott[end]   [start]hi[end]\n3          [start]lauf[end]  [start]run[end]\n4    [start]potzdonner[end]  [start]wow[end]\n5  [start]donnerwetter[end]  [start]wow[end]",
            "text/html": "<div>\n<style scoped>\n    .dataframe tbody tr th:only-of-type {\n        vertical-align: middle;\n    }\n\n    .dataframe tbody tr th {\n        vertical-align: top;\n    }\n\n    .dataframe thead th {\n        text-align: right;\n    }\n</style>\n<table border=\"1\" class=\"dataframe\">\n  <thead>\n    <tr style=\"text-align: right;\">\n      <th></th>\n      <th>source</th>\n      <th>target</th>\n    </tr>\n  </thead>\n  <tbody>\n    <tr>\n      <th>1</th>\n      <td>[start]hallo[end]</td>\n      <td>[start]hi[end]</td>\n    </tr>\n    <tr>\n      <th>2</th>\n      <td>[start]gru gott[end]</td>\n      <td>[start]hi[end]</td>\n    </tr>\n    <tr>\n      <th>3</th>\n      <td>[start]lauf[end]</td>\n      <td>[start]run[end]</td>\n    </tr>\n    <tr>\n      <th>4</th>\n      <td>[start]potzdonner[end]</td>\n      <td>[start]wow[end]</td>\n    </tr>\n    <tr>\n      <th>5</th>\n      <td>[start]donnerwetter[end]</td>\n      <td>[start]wow[end]</td>\n    </tr>\n  </tbody>\n</table>\n</div>"
          },
          "metadata": {}
        }
      ]
    },
    {
      "cell_type": "code",
      "source": [
        "source_data = data[\"source\"].values\n",
        "target_data = data[\"target\"].values"
      ],
      "metadata": {
        "execution": {
          "iopub.status.busy": "2024-08-31T11:35:16.207257Z",
          "iopub.execute_input": "2024-08-31T11:35:16.207584Z",
          "iopub.status.idle": "2024-08-31T11:35:16.215243Z",
          "shell.execute_reply.started": "2024-08-31T11:35:16.20755Z",
          "shell.execute_reply": "2024-08-31T11:35:16.214356Z"
        },
        "trusted": true,
        "id": "Lm5rjXbqBcQW"
      },
      "execution_count": null,
      "outputs": []
    },
    {
      "cell_type": "code",
      "source": [
        "print(len(source_data),len(target_data))"
      ],
      "metadata": {
        "execution": {
          "iopub.status.busy": "2024-08-31T11:35:16.216239Z",
          "iopub.execute_input": "2024-08-31T11:35:16.21654Z",
          "iopub.status.idle": "2024-08-31T11:35:16.225751Z",
          "shell.execute_reply.started": "2024-08-31T11:35:16.216509Z",
          "shell.execute_reply": "2024-08-31T11:35:16.224865Z"
        },
        "trusted": true,
        "id": "Caz-DfTEBcQW",
        "outputId": "be9e3628-0fea-43e3-afe1-49cb4ba5b781"
      },
      "execution_count": null,
      "outputs": [
        {
          "name": "stdout",
          "text": "152820 152820\n",
          "output_type": "stream"
        }
      ]
    },
    {
      "cell_type": "code",
      "source": [
        "from tensorflow.keras.layers import TextVectorization"
      ],
      "metadata": {
        "execution": {
          "iopub.status.busy": "2024-08-31T11:35:16.22683Z",
          "iopub.execute_input": "2024-08-31T11:35:16.227134Z",
          "iopub.status.idle": "2024-08-31T11:35:16.245673Z",
          "shell.execute_reply.started": "2024-08-31T11:35:16.227103Z",
          "shell.execute_reply": "2024-08-31T11:35:16.244617Z"
        },
        "trusted": true,
        "id": "D4RVbQBwBcQW"
      },
      "execution_count": null,
      "outputs": []
    },
    {
      "cell_type": "code",
      "source": [
        "max_tokens = 50000\n",
        "max_sentence_length = 30"
      ],
      "metadata": {
        "execution": {
          "iopub.status.busy": "2024-08-31T11:35:16.246774Z",
          "iopub.execute_input": "2024-08-31T11:35:16.24708Z",
          "iopub.status.idle": "2024-08-31T11:35:16.253132Z",
          "shell.execute_reply.started": "2024-08-31T11:35:16.247045Z",
          "shell.execute_reply": "2024-08-31T11:35:16.252206Z"
        },
        "trusted": true,
        "id": "IKIFGDMQBcQW"
      },
      "execution_count": null,
      "outputs": []
    },
    {
      "cell_type": "code",
      "source": [
        "source_vectorization = TextVectorization(\n",
        "     max_tokens= max_tokens,\n",
        "     output_mode=\"int\",\n",
        "     output_sequence_length = max_sentence_length,\n",
        "     standardize = None\n",
        "    )\n",
        "\n",
        "target_vectorization = TextVectorization(\n",
        "    max_tokens= max_tokens,\n",
        "    output_mode=\"int\",\n",
        "    output_sequence_length = max_sentence_length + 1,\n",
        "    standardize = None\n",
        "    )"
      ],
      "metadata": {
        "execution": {
          "iopub.status.busy": "2024-08-31T11:35:16.258282Z",
          "iopub.execute_input": "2024-08-31T11:35:16.258608Z",
          "iopub.status.idle": "2024-08-31T11:35:16.91861Z",
          "shell.execute_reply.started": "2024-08-31T11:35:16.258576Z",
          "shell.execute_reply": "2024-08-31T11:35:16.917755Z"
        },
        "trusted": true,
        "id": "gSclKFcbBcQW"
      },
      "execution_count": null,
      "outputs": []
    },
    {
      "cell_type": "code",
      "source": [
        "target_vectorization.adapt(target_data)\n",
        "source_vectorization.adapt(source_data)"
      ],
      "metadata": {
        "execution": {
          "iopub.status.busy": "2024-08-31T11:35:16.919714Z",
          "iopub.execute_input": "2024-08-31T11:35:16.920032Z",
          "iopub.status.idle": "2024-08-31T11:35:17.673594Z",
          "shell.execute_reply.started": "2024-08-31T11:35:16.919998Z",
          "shell.execute_reply": "2024-08-31T11:35:17.672539Z"
        },
        "trusted": true,
        "id": "FDaY-bR5BcQW"
      },
      "execution_count": null,
      "outputs": []
    },
    {
      "cell_type": "code",
      "source": [
        "print(source_vectorization.get_vocabulary()[:5])"
      ],
      "metadata": {
        "execution": {
          "iopub.status.busy": "2024-08-31T11:35:17.674792Z",
          "iopub.execute_input": "2024-08-31T11:35:17.675118Z",
          "iopub.status.idle": "2024-08-31T11:35:17.849977Z",
          "shell.execute_reply.started": "2024-08-31T11:35:17.675085Z",
          "shell.execute_reply": "2024-08-31T11:35:17.848874Z"
        },
        "trusted": true,
        "id": "W-u5IefZBcQW",
        "outputId": "1fd42950-899d-44cf-bbee-3ba3fb8bac6d"
      },
      "execution_count": null,
      "outputs": [
        {
          "name": "stdout",
          "text": "['', '[UNK]', '[start]ich', '[start]tom', 'nicht']\n",
          "output_type": "stream"
        }
      ]
    },
    {
      "cell_type": "code",
      "source": [
        "from sklearn.model_selection import train_test_split"
      ],
      "metadata": {
        "execution": {
          "iopub.status.busy": "2024-08-31T11:35:17.851602Z",
          "iopub.execute_input": "2024-08-31T11:35:17.852015Z",
          "iopub.status.idle": "2024-08-31T11:35:18.306151Z",
          "shell.execute_reply.started": "2024-08-31T11:35:17.851969Z",
          "shell.execute_reply": "2024-08-31T11:35:18.305118Z"
        },
        "trusted": true,
        "id": "vuDhFIX0BcQX"
      },
      "execution_count": null,
      "outputs": []
    },
    {
      "cell_type": "code",
      "source": [
        "source_train, source_test, target_train, target_test = train_test_split(source_data,target_data,test_size=0.2,shuffle=True,random_state=42)\n",
        "source_train, source_valid, target_train, target_valid = train_test_split(source_train, target_train,test_size=0.3,shuffle=True,random_state=42)"
      ],
      "metadata": {
        "execution": {
          "iopub.status.busy": "2024-08-31T11:35:18.307655Z",
          "iopub.execute_input": "2024-08-31T11:35:18.308814Z",
          "iopub.status.idle": "2024-08-31T11:35:18.354388Z",
          "shell.execute_reply.started": "2024-08-31T11:35:18.308762Z",
          "shell.execute_reply": "2024-08-31T11:35:18.353604Z"
        },
        "trusted": true,
        "id": "HE3twBwpBcQX"
      },
      "execution_count": null,
      "outputs": []
    },
    {
      "cell_type": "code",
      "source": [
        "print(source_train.shape)"
      ],
      "metadata": {
        "execution": {
          "iopub.status.busy": "2024-08-31T11:35:18.3556Z",
          "iopub.execute_input": "2024-08-31T11:35:18.356098Z",
          "iopub.status.idle": "2024-08-31T11:35:18.361041Z",
          "shell.execute_reply.started": "2024-08-31T11:35:18.356052Z",
          "shell.execute_reply": "2024-08-31T11:35:18.3602Z"
        },
        "trusted": true,
        "id": "b77mDModBcQX",
        "outputId": "37148b3d-898d-4d1e-dc67-359479634a4b"
      },
      "execution_count": null,
      "outputs": [
        {
          "name": "stdout",
          "text": "(85579,)\n",
          "output_type": "stream"
        }
      ]
    },
    {
      "cell_type": "code",
      "source": [
        "batch_size = 32\n",
        "epochs = 50"
      ],
      "metadata": {
        "execution": {
          "iopub.status.busy": "2024-08-31T11:35:18.362481Z",
          "iopub.execute_input": "2024-08-31T11:35:18.362947Z",
          "iopub.status.idle": "2024-08-31T11:35:18.372535Z",
          "shell.execute_reply.started": "2024-08-31T11:35:18.362903Z",
          "shell.execute_reply": "2024-08-31T11:35:18.371714Z"
        },
        "trusted": true,
        "id": "Ll8LmU32BcQX"
      },
      "execution_count": null,
      "outputs": []
    },
    {
      "cell_type": "code",
      "source": [
        "import string\n",
        "print(string.punctuation)"
      ],
      "metadata": {
        "execution": {
          "iopub.status.busy": "2024-08-31T11:35:18.373514Z",
          "iopub.execute_input": "2024-08-31T11:35:18.373795Z",
          "iopub.status.idle": "2024-08-31T11:35:18.382759Z",
          "shell.execute_reply.started": "2024-08-31T11:35:18.373764Z",
          "shell.execute_reply": "2024-08-31T11:35:18.381896Z"
        },
        "trusted": true,
        "id": "Pw2c6u4oBcQX",
        "outputId": "91c88a39-98fe-480d-f374-639f44d3c163"
      },
      "execution_count": null,
      "outputs": [
        {
          "name": "stdout",
          "text": "!\"#$%&'()*+,-./:;<=>?@[\\]^_`{|}~\n",
          "output_type": "stream"
        }
      ]
    },
    {
      "cell_type": "code",
      "source": [
        "punctuations_list = list(string.punctuation)\n",
        "punctuations_list.remove('[')\n",
        "punctuations_list.remove(']')\n",
        "modified_punctuation = ''.join(punctuations_list)\n",
        "arabic_punctuations = '''`÷×؛<>_()*&^%ـ،/:\"؟.,'{}~¦+|!”…“–ـ'''\n",
        "modified_punctuation += arabic_punctuations\n",
        "print(modified_punctuation)\n"
      ],
      "metadata": {
        "execution": {
          "iopub.status.busy": "2024-08-31T11:35:18.384106Z",
          "iopub.execute_input": "2024-08-31T11:35:18.384477Z",
          "iopub.status.idle": "2024-08-31T11:35:18.394425Z",
          "shell.execute_reply.started": "2024-08-31T11:35:18.384435Z",
          "shell.execute_reply": "2024-08-31T11:35:18.393526Z"
        },
        "trusted": true,
        "id": "QjbUSRlgBcQX",
        "outputId": "13f4553e-66d9-493b-bf0f-3c9bba745efd"
      },
      "execution_count": null,
      "outputs": [
        {
          "name": "stdout",
          "text": "!\"#$%&'()*+,-./:;<=>?@\\^_`{|}~`÷×؛<>_()*&^%ـ،/:\"؟.,'{}~¦+|!”…“–ـ\n",
          "output_type": "stream"
        }
      ]
    },
    {
      "cell_type": "code",
      "source": [
        "def preprocessing_text(data):\n",
        "#     tf.print(\"data (before decode):\", data)\n",
        "\n",
        "    data = data.item()\n",
        "    data = data.decode()\n",
        "\n",
        "    data = data.translate(str.maketrans('','',modified_punctuation)).strip().lower()\n",
        "#     tf.print(\"data (after preprocessing):\", data)\n",
        "#     data = tf.convert_to_tensor(data)\n",
        "    return tf.cast(data,tf.string)\n",
        ""
      ],
      "metadata": {
        "execution": {
          "iopub.status.busy": "2024-08-31T11:35:18.395577Z",
          "iopub.execute_input": "2024-08-31T11:35:18.395928Z",
          "iopub.status.idle": "2024-08-31T11:35:18.403956Z",
          "shell.execute_reply.started": "2024-08-31T11:35:18.395897Z",
          "shell.execute_reply": "2024-08-31T11:35:18.403093Z"
        },
        "trusted": true,
        "id": "aOFanlJ9BcQX"
      },
      "execution_count": null,
      "outputs": []
    },
    {
      "cell_type": "code",
      "source": [
        "data = np.array(b\" Example! string \")\n",
        "preprocessing_text(data)\n"
      ],
      "metadata": {
        "execution": {
          "iopub.status.busy": "2024-08-31T11:35:18.404943Z",
          "iopub.execute_input": "2024-08-31T11:35:18.405258Z",
          "iopub.status.idle": "2024-08-31T11:35:18.418165Z",
          "shell.execute_reply.started": "2024-08-31T11:35:18.405226Z",
          "shell.execute_reply": "2024-08-31T11:35:18.417305Z"
        },
        "trusted": true,
        "id": "z4iLLF2ABcQY",
        "outputId": "f3fa4cfb-c931-471e-c727-4ada3945d19b"
      },
      "execution_count": null,
      "outputs": [
        {
          "execution_count": 24,
          "output_type": "execute_result",
          "data": {
            "text/plain": "<tf.Tensor: shape=(), dtype=string, numpy=b'example string'>"
          },
          "metadata": {}
        }
      ]
    },
    {
      "cell_type": "code",
      "source": [
        "def vectorization(x_data,y_data):\n",
        "    new_x_train = tf.numpy_function(preprocessing_text,[x_data], tf.string)\n",
        "    new_y_train = tf.numpy_function(preprocessing_text,[y_data], tf.string)\n",
        "      # Ensure shapes are set\n",
        "    new_x_train.set_shape(())\n",
        "    new_y_train.set_shape(())\n",
        "    x_train = source_vectorization(new_x_train)\n",
        "    y_train = target_vectorization(new_y_train)\n",
        "    return ({\"source\":x_train,\n",
        "           \"target\":y_train[:-1]},\n",
        "           y_train[1:])\n"
      ],
      "metadata": {
        "execution": {
          "iopub.status.busy": "2024-08-31T11:35:18.419302Z",
          "iopub.execute_input": "2024-08-31T11:35:18.41966Z",
          "iopub.status.idle": "2024-08-31T11:35:18.426167Z",
          "shell.execute_reply.started": "2024-08-31T11:35:18.419615Z",
          "shell.execute_reply": "2024-08-31T11:35:18.425373Z"
        },
        "trusted": true,
        "id": "kcjPeQBCBcQY"
      },
      "execution_count": null,
      "outputs": []
    },
    {
      "cell_type": "code",
      "source": [
        "def prepare_data(x_data,y_data):\n",
        "    dataset = Dataset.from_tensor_slices((x_data,y_data))\n",
        "    dataset = dataset.map(vectorization)\n",
        "    dataset = dataset.batch(batch_size)\n",
        "    dataset = dataset.prefetch(16).cache()\n",
        "    return dataset"
      ],
      "metadata": {
        "execution": {
          "iopub.status.busy": "2024-08-31T11:35:18.427278Z",
          "iopub.execute_input": "2024-08-31T11:35:18.427552Z",
          "iopub.status.idle": "2024-08-31T11:35:18.440736Z",
          "shell.execute_reply.started": "2024-08-31T11:35:18.427523Z",
          "shell.execute_reply": "2024-08-31T11:35:18.439892Z"
        },
        "trusted": true,
        "id": "XYzpPiO5BcQY"
      },
      "execution_count": null,
      "outputs": []
    },
    {
      "cell_type": "code",
      "source": [
        "print(source_train.shape)"
      ],
      "metadata": {
        "execution": {
          "iopub.status.busy": "2024-08-31T11:35:18.441814Z",
          "iopub.execute_input": "2024-08-31T11:35:18.442189Z",
          "iopub.status.idle": "2024-08-31T11:35:18.451541Z",
          "shell.execute_reply.started": "2024-08-31T11:35:18.442146Z",
          "shell.execute_reply": "2024-08-31T11:35:18.450581Z"
        },
        "trusted": true,
        "id": "NiFYV8dgBcQY",
        "outputId": "e52c46df-29a4-4e46-90d9-a655e4f89287"
      },
      "execution_count": null,
      "outputs": [
        {
          "name": "stdout",
          "text": "(85579,)\n",
          "output_type": "stream"
        }
      ]
    },
    {
      "cell_type": "code",
      "source": [
        "\n",
        "train_dataset = prepare_data(source_train,target_train)\n",
        "test_dataset = prepare_data(source_test,target_test)\n",
        "valid_dataset = prepare_data(source_valid,target_valid)"
      ],
      "metadata": {
        "execution": {
          "iopub.status.busy": "2024-08-31T11:35:18.452553Z",
          "iopub.execute_input": "2024-08-31T11:35:18.452861Z",
          "iopub.status.idle": "2024-08-31T11:35:19.066261Z",
          "shell.execute_reply.started": "2024-08-31T11:35:18.452807Z",
          "shell.execute_reply": "2024-08-31T11:35:19.065227Z"
        },
        "trusted": true,
        "id": "bnHvSVTuBcQY"
      },
      "execution_count": null,
      "outputs": []
    },
    {
      "cell_type": "code",
      "source": [
        "for batch in train_dataset.take(1):\n",
        "    print(\"Encoder Inputs:\", batch[0][\"source\"].shape)\n",
        "    print(\"Decoder Inputs:\", batch[0][\"target\"].shape)\n",
        "    print(\"Decoder Outputs:\", batch[1].shape)\n",
        ""
      ],
      "metadata": {
        "execution": {
          "iopub.status.busy": "2024-08-31T11:35:19.067543Z",
          "iopub.execute_input": "2024-08-31T11:35:19.067879Z",
          "iopub.status.idle": "2024-08-31T11:35:20.965904Z",
          "shell.execute_reply.started": "2024-08-31T11:35:19.067819Z",
          "shell.execute_reply": "2024-08-31T11:35:20.964797Z"
        },
        "trusted": true,
        "id": "ZHL1u-btBcQY",
        "outputId": "99594bc8-a1c4-4b02-8026-0673a390a815"
      },
      "execution_count": null,
      "outputs": [
        {
          "name": "stdout",
          "text": "Encoder Inputs: (32, 30)\nDecoder Inputs: (32, 30)\nDecoder Outputs: (32, 30)\n",
          "output_type": "stream"
        }
      ]
    },
    {
      "cell_type": "code",
      "source": [
        "import tensorflow as tf\n",
        "from tensorflow.keras import Model, Input, Sequential\n",
        "from tensorflow.keras.layers import Dense,Dropout, LayerNormalization, Add, Embedding, MultiHeadAttention, BatchNormalization\n",
        "from keras_nlp.layers import PositionEmbedding\n",
        "import keras.layers"
      ],
      "metadata": {
        "execution": {
          "iopub.status.busy": "2024-08-31T11:35:20.967351Z",
          "iopub.execute_input": "2024-08-31T11:35:20.967772Z",
          "iopub.status.idle": "2024-08-31T11:35:21.740707Z",
          "shell.execute_reply.started": "2024-08-31T11:35:20.967726Z",
          "shell.execute_reply": "2024-08-31T11:35:21.739663Z"
        },
        "trusted": true,
        "id": "q0rcCnqUBcQY"
      },
      "execution_count": null,
      "outputs": []
    },
    {
      "cell_type": "code",
      "source": [
        "class PositionalEmbedding(keras.layers.Layer):\n",
        "    def __init__(self,max_tokens,embedd_dim,sequence_length,**kwargs):\n",
        "        super().__init__()\n",
        "        self.embedding_layer = Embedding(input_dim=max_tokens,output_dim=embedd_dim)\n",
        "        self.postional_embedding  = PositionEmbedding(sequence_length=sequence_length)\n",
        "\n",
        "    def call(self,x):\n",
        "        output_embedding = self.embedding_layer(x)\n",
        "        output_postional_embedding = self.postional_embedding(output_embedding)\n",
        "        return output_embedding + output_postional_embedding"
      ],
      "metadata": {
        "execution": {
          "iopub.status.busy": "2024-08-31T11:35:21.742009Z",
          "iopub.execute_input": "2024-08-31T11:35:21.74234Z",
          "iopub.status.idle": "2024-08-31T11:35:21.748762Z",
          "shell.execute_reply.started": "2024-08-31T11:35:21.742306Z",
          "shell.execute_reply": "2024-08-31T11:35:21.747859Z"
        },
        "trusted": true,
        "id": "fSgczTFsBcQY"
      },
      "execution_count": null,
      "outputs": []
    },
    {
      "cell_type": "code",
      "source": [
        "class TransformerEncoder(keras.layers.Layer):\n",
        "    def __init__(self,no_of_heads,embedd_dim,no_of_neurons,**kwargs):\n",
        "        super().__init__()\n",
        "        if embedd_dim%no_of_heads != 0:\n",
        "            raise ValueError(\n",
        "                f\"dimension of the embedding space = {embed_dim} should be divisible by number of heads = {h}\"\n",
        "            )\n",
        "        self.key_dim = embedd_dim // no_of_heads\n",
        "        self.global_self_attention = MultiHeadAttention(num_heads=no_of_heads,key_dim=self.key_dim)\n",
        "        self.add = Add()\n",
        "        self.layer_normalization_1 = LayerNormalization()\n",
        "        self.layer_normalization_2 = LayerNormalization()\n",
        "        self.feed_forward = Sequential([\n",
        "            Dense(no_of_neurons,activation='relu'),\n",
        "            Dropout(0.2),\n",
        "            Dense(embedd_dim,activation='relu')\n",
        "        ])\n",
        "\n",
        "    def call(self,x):\n",
        "        attention =  self.global_self_attention(key=x,query=x,value=x)\n",
        "        layer_norm1 = self.layer_normalization_1(self.add([x,attention]))\n",
        "        dense_layers = self.feed_forward(layer_norm1)\n",
        "        layer_norm2 = self.layer_normalization_2(self.add([layer_norm1,dense_layers]))\n",
        "        return layer_norm2\n",
        ""
      ],
      "metadata": {
        "execution": {
          "iopub.status.busy": "2024-08-31T11:35:21.750051Z",
          "iopub.execute_input": "2024-08-31T11:35:21.750562Z",
          "iopub.status.idle": "2024-08-31T11:35:21.761086Z",
          "shell.execute_reply.started": "2024-08-31T11:35:21.750403Z",
          "shell.execute_reply": "2024-08-31T11:35:21.7603Z"
        },
        "trusted": true,
        "id": "GOPW6EztBcQZ"
      },
      "execution_count": null,
      "outputs": []
    },
    {
      "cell_type": "code",
      "source": [
        "class TransformerDecoder(keras.layers.Layer):\n",
        "    def __init__(self,no_of_heads,embedd_dim,no_of_neurons,**kwargs):\n",
        "        super().__init__()\n",
        "        if embedd_dim%no_of_heads!= 0:\n",
        "            raise ValueError(\n",
        "                f\"dimension of the embedding space = {embed_dim} should be divisible by number of heads = {h}\"\n",
        "            )\n",
        "        self.key_dim = embedd_dim // no_of_heads\n",
        "        self.casual_self_attention = MultiHeadAttention(num_heads=no_of_heads,key_dim=self.key_dim)\n",
        "        self.cross_self_attention = MultiHeadAttention(num_heads=no_of_heads,key_dim=self.key_dim)\n",
        "        self.add = Add()\n",
        "        self.layer_normalization_1 = LayerNormalization()\n",
        "        self.layer_normalization_2 = LayerNormalization()\n",
        "        self.layer_normalization_3 = LayerNormalization()\n",
        "        self.feed_forward = Sequential([\n",
        "            Dense(no_of_neurons,activation='relu'),\n",
        "            Dropout(0.2),\n",
        "            Dense(embedd_dim,activation='relu')\n",
        "        ])\n",
        "\n",
        "    def call(self,x,encoder_outputs):\n",
        "        casual_attention = self.casual_self_attention(key=x,query=x,value=x,use_causal_mask=True)\n",
        "        layer_norm1 = self.layer_normalization_1(self.add([x,casual_attention]))\n",
        "        cross_attention = self.cross_self_attention(key=encoder_outputs,query=layer_norm1,value=encoder_outputs)\n",
        "        layer_norm2 = self.layer_normalization_2(self.add([layer_norm1,cross_attention]))\n",
        "        dense_layers = self.feed_forward(layer_norm2)\n",
        "        layer_norm3 = self.layer_normalization_3(self.add([layer_norm2,dense_layers]))\n",
        "        return layer_norm3\n",
        "\n",
        ""
      ],
      "metadata": {
        "execution": {
          "iopub.status.busy": "2024-08-31T11:35:21.762163Z",
          "iopub.execute_input": "2024-08-31T11:35:21.762459Z",
          "iopub.status.idle": "2024-08-31T11:35:21.775157Z",
          "shell.execute_reply.started": "2024-08-31T11:35:21.762428Z",
          "shell.execute_reply": "2024-08-31T11:35:21.774203Z"
        },
        "trusted": true,
        "id": "1nRHNycbBcQZ"
      },
      "execution_count": null,
      "outputs": []
    },
    {
      "cell_type": "code",
      "source": [
        "class Transformer(keras.layers.Layer):\n",
        "    def __init__(self,no_of_heads,embedd_dim,no_of_neurons,max_tokens,sequence_length,**kwargs):\n",
        "        super().__init__()\n",
        "        self.embedding_layer_encoder = PositionalEmbedding(max_tokens,embedd_dim,sequence_length)\n",
        "        self.embedding_layer_decoder = PositionalEmbedding(max_tokens,embedd_dim,sequence_length)\n",
        "        self.transformer_encoder = TransformerEncoder(no_of_heads,embedd_dim,no_of_neurons)\n",
        "        self.transformer_encoder_2 = TransformerEncoder(no_of_heads,embedd_dim,no_of_neurons)\n",
        "        self.transformer_encoder_3 = TransformerEncoder(no_of_heads,embedd_dim,no_of_neurons)\n",
        "\n",
        "        self.transformer_decoder = TransformerDecoder(no_of_heads,embedd_dim,no_of_neurons)\n",
        "        self.dense_layer = Dense(max_tokens,activation=\"softmax\")\n",
        "        self.drop_out = Dropout(0.5)\n",
        "\n",
        "    def call(self,encoder_inputs,decoder_inputs):\n",
        "        ## Encoder\n",
        "        embedding_layer_encoder=self.embedding_layer_encoder(encoder_inputs)\n",
        "        encoder_outputs = self.transformer_encoder(embedding_layer_encoder)\n",
        "        encoder_outputs_2 = self.transformer_encoder_2(encoder_outputs)\n",
        "#         encoder_outputs_3 = self.transformer_encoder_3(encoder_outputs_2)\n",
        "\n",
        "        ## Decoder\n",
        "\n",
        "        embedding_layer_decoder = self.embedding_layer_decoder(decoder_inputs)\n",
        "        decoder_outputs = self.transformer_decoder(embedding_layer_decoder,encoder_outputs_2)\n",
        "        drop_out = self.drop_out(decoder_outputs)\n",
        "        last_layer = self.dense_layer(drop_out)\n",
        "        return last_layer\n",
        "\n",
        "\n",
        ""
      ],
      "metadata": {
        "execution": {
          "iopub.status.busy": "2024-08-31T11:35:21.776573Z",
          "iopub.execute_input": "2024-08-31T11:35:21.776861Z",
          "iopub.status.idle": "2024-08-31T11:35:21.790132Z",
          "shell.execute_reply.started": "2024-08-31T11:35:21.776811Z",
          "shell.execute_reply": "2024-08-31T11:35:21.789246Z"
        },
        "trusted": true,
        "id": "AalLtoHLBcQZ"
      },
      "execution_count": null,
      "outputs": []
    },
    {
      "cell_type": "code",
      "source": [
        "embed_dim = 512 # dimension of the embedding space\n",
        "dense_dim = 2048 # dimension of the feed forward network (a rule of thumb is to use 4 times the size of the embeddings)\n",
        "num_heads = 8\n",
        "\n"
      ],
      "metadata": {
        "execution": {
          "iopub.status.busy": "2024-08-31T11:35:21.791342Z",
          "iopub.execute_input": "2024-08-31T11:35:21.791744Z",
          "iopub.status.idle": "2024-08-31T11:35:21.803059Z",
          "shell.execute_reply.started": "2024-08-31T11:35:21.791687Z",
          "shell.execute_reply": "2024-08-31T11:35:21.802249Z"
        },
        "trusted": true,
        "id": "JOvtcDPoBcQZ"
      },
      "execution_count": null,
      "outputs": []
    },
    {
      "cell_type": "code",
      "source": [
        "transformer = Transformer(no_of_heads=num_heads,embedd_dim=embed_dim,no_of_neurons=dense_dim\n",
        "                          ,max_tokens=max_tokens,sequence_length=max_sentence_length)"
      ],
      "metadata": {
        "execution": {
          "iopub.status.busy": "2024-08-31T11:35:21.804114Z",
          "iopub.execute_input": "2024-08-31T11:35:21.804447Z",
          "iopub.status.idle": "2024-08-31T11:35:22.070436Z",
          "shell.execute_reply.started": "2024-08-31T11:35:21.804414Z",
          "shell.execute_reply": "2024-08-31T11:35:22.069655Z"
        },
        "trusted": true,
        "id": "jeNe2mDFBcQZ"
      },
      "execution_count": null,
      "outputs": []
    },
    {
      "cell_type": "code",
      "source": [
        "encoder_inputs = Input(shape=(None,), dtype=\"int64\",name=\"source\")\n",
        "decoder_inputs = Input(shape=(None,), dtype=\"int64\",name=\"target\")\n",
        "decoder_outputs = transformer(encoder_inputs,decoder_inputs)\n",
        "model_transformer = Model([encoder_inputs,decoder_inputs],decoder_outputs)\n",
        "model_transformer.summary()"
      ],
      "metadata": {
        "execution": {
          "iopub.status.busy": "2024-08-31T11:35:22.071688Z",
          "iopub.execute_input": "2024-08-31T11:35:22.072369Z",
          "iopub.status.idle": "2024-08-31T11:35:23.267282Z",
          "shell.execute_reply.started": "2024-08-31T11:35:22.072321Z",
          "shell.execute_reply": "2024-08-31T11:35:23.266372Z"
        },
        "trusted": true,
        "id": "9PA1eDCyBcQZ",
        "outputId": "14b0ee63-333c-4b49-961b-e567fabb5009"
      },
      "execution_count": null,
      "outputs": [
        {
          "name": "stderr",
          "text": "/opt/conda/lib/python3.10/site-packages/keras/src/layers/layer.py:361: UserWarning: `build()` was called on layer 'transformer', however the layer does not have a `build()` method implemented and it looks like it has unbuilt state. This will cause the layer to be marked as built, despite not being actually built, which may cause failures down the line. Make sure to implement a proper `build()` method.\n  warnings.warn(\n",
          "output_type": "stream"
        },
        {
          "output_type": "display_data",
          "data": {
            "text/plain": "\u001b[1mModel: \"functional_4\"\u001b[0m\n",
            "text/html": "<pre style=\"white-space:pre;overflow-x:auto;line-height:normal;font-family:Menlo,'DejaVu Sans Mono',consolas,'Courier New',monospace\"><span style=\"font-weight: bold\">Model: \"functional_4\"</span>\n</pre>\n"
          },
          "metadata": {}
        },
        {
          "output_type": "display_data",
          "data": {
            "text/plain": "┏━━━━━━━━━━━━━━━━━━━━━┳━━━━━━━━━━━━━━━━━━━┳━━━━━━━━━━━━┳━━━━━━━━━━━━━━━━━━━┓\n┃\u001b[1m \u001b[0m\u001b[1mLayer (type)       \u001b[0m\u001b[1m \u001b[0m┃\u001b[1m \u001b[0m\u001b[1mOutput Shape     \u001b[0m\u001b[1m \u001b[0m┃\u001b[1m \u001b[0m\u001b[1m   Param #\u001b[0m\u001b[1m \u001b[0m┃\u001b[1m \u001b[0m\u001b[1mConnected to     \u001b[0m\u001b[1m \u001b[0m┃\n┡━━━━━━━━━━━━━━━━━━━━━╇━━━━━━━━━━━━━━━━━━━╇━━━━━━━━━━━━╇━━━━━━━━━━━━━━━━━━━┩\n│ source (\u001b[38;5;33mInputLayer\u001b[0m) │ (\u001b[38;5;45mNone\u001b[0m, \u001b[38;5;45mNone\u001b[0m)      │          \u001b[38;5;34m0\u001b[0m │ -                 │\n├─────────────────────┼───────────────────┼────────────┼───────────────────┤\n│ target (\u001b[38;5;33mInputLayer\u001b[0m) │ (\u001b[38;5;45mNone\u001b[0m, \u001b[38;5;45mNone\u001b[0m)      │          \u001b[38;5;34m0\u001b[0m │ -                 │\n├─────────────────────┼───────────────────┼────────────┼───────────────────┤\n│ transformer         │ (\u001b[38;5;45mNone\u001b[0m, \u001b[38;5;45mNone\u001b[0m,      │ \u001b[38;5;34m87,389,520\u001b[0m │ source[\u001b[38;5;34m0\u001b[0m][\u001b[38;5;34m0\u001b[0m],     │\n│ (\u001b[38;5;33mTransformer\u001b[0m)       │ \u001b[38;5;34m50000\u001b[0m)            │            │ target[\u001b[38;5;34m0\u001b[0m][\u001b[38;5;34m0\u001b[0m]      │\n└─────────────────────┴───────────────────┴────────────┴───────────────────┘\n",
            "text/html": "<pre style=\"white-space:pre;overflow-x:auto;line-height:normal;font-family:Menlo,'DejaVu Sans Mono',consolas,'Courier New',monospace\">┏━━━━━━━━━━━━━━━━━━━━━┳━━━━━━━━━━━━━━━━━━━┳━━━━━━━━━━━━┳━━━━━━━━━━━━━━━━━━━┓\n┃<span style=\"font-weight: bold\"> Layer (type)        </span>┃<span style=\"font-weight: bold\"> Output Shape      </span>┃<span style=\"font-weight: bold\">    Param # </span>┃<span style=\"font-weight: bold\"> Connected to      </span>┃\n┡━━━━━━━━━━━━━━━━━━━━━╇━━━━━━━━━━━━━━━━━━━╇━━━━━━━━━━━━╇━━━━━━━━━━━━━━━━━━━┩\n│ source (<span style=\"color: #0087ff; text-decoration-color: #0087ff\">InputLayer</span>) │ (<span style=\"color: #00d7ff; text-decoration-color: #00d7ff\">None</span>, <span style=\"color: #00d7ff; text-decoration-color: #00d7ff\">None</span>)      │          <span style=\"color: #00af00; text-decoration-color: #00af00\">0</span> │ -                 │\n├─────────────────────┼───────────────────┼────────────┼───────────────────┤\n│ target (<span style=\"color: #0087ff; text-decoration-color: #0087ff\">InputLayer</span>) │ (<span style=\"color: #00d7ff; text-decoration-color: #00d7ff\">None</span>, <span style=\"color: #00d7ff; text-decoration-color: #00d7ff\">None</span>)      │          <span style=\"color: #00af00; text-decoration-color: #00af00\">0</span> │ -                 │\n├─────────────────────┼───────────────────┼────────────┼───────────────────┤\n│ transformer         │ (<span style=\"color: #00d7ff; text-decoration-color: #00d7ff\">None</span>, <span style=\"color: #00d7ff; text-decoration-color: #00d7ff\">None</span>,      │ <span style=\"color: #00af00; text-decoration-color: #00af00\">87,389,520</span> │ source[<span style=\"color: #00af00; text-decoration-color: #00af00\">0</span>][<span style=\"color: #00af00; text-decoration-color: #00af00\">0</span>],     │\n│ (<span style=\"color: #0087ff; text-decoration-color: #0087ff\">Transformer</span>)       │ <span style=\"color: #00af00; text-decoration-color: #00af00\">50000</span>)            │            │ target[<span style=\"color: #00af00; text-decoration-color: #00af00\">0</span>][<span style=\"color: #00af00; text-decoration-color: #00af00\">0</span>]      │\n└─────────────────────┴───────────────────┴────────────┴───────────────────┘\n</pre>\n"
          },
          "metadata": {}
        },
        {
          "output_type": "display_data",
          "data": {
            "text/plain": "\u001b[1m Total params: \u001b[0m\u001b[38;5;34m87,389,520\u001b[0m (333.36 MB)\n",
            "text/html": "<pre style=\"white-space:pre;overflow-x:auto;line-height:normal;font-family:Menlo,'DejaVu Sans Mono',consolas,'Courier New',monospace\"><span style=\"font-weight: bold\"> Total params: </span><span style=\"color: #00af00; text-decoration-color: #00af00\">87,389,520</span> (333.36 MB)\n</pre>\n"
          },
          "metadata": {}
        },
        {
          "output_type": "display_data",
          "data": {
            "text/plain": "\u001b[1m Trainable params: \u001b[0m\u001b[38;5;34m87,389,520\u001b[0m (333.36 MB)\n",
            "text/html": "<pre style=\"white-space:pre;overflow-x:auto;line-height:normal;font-family:Menlo,'DejaVu Sans Mono',consolas,'Courier New',monospace\"><span style=\"font-weight: bold\"> Trainable params: </span><span style=\"color: #00af00; text-decoration-color: #00af00\">87,389,520</span> (333.36 MB)\n</pre>\n"
          },
          "metadata": {}
        },
        {
          "output_type": "display_data",
          "data": {
            "text/plain": "\u001b[1m Non-trainable params: \u001b[0m\u001b[38;5;34m0\u001b[0m (0.00 B)\n",
            "text/html": "<pre style=\"white-space:pre;overflow-x:auto;line-height:normal;font-family:Menlo,'DejaVu Sans Mono',consolas,'Courier New',monospace\"><span style=\"font-weight: bold\"> Non-trainable params: </span><span style=\"color: #00af00; text-decoration-color: #00af00\">0</span> (0.00 B)\n</pre>\n"
          },
          "metadata": {}
        }
      ]
    },
    {
      "cell_type": "code",
      "source": [
        "from tensorflow.keras.callbacks import EarlyStopping, ReduceLROnPlateau\n",
        "from tensorflow.keras.optimizers import Adam,RMSprop\n"
      ],
      "metadata": {
        "execution": {
          "iopub.status.busy": "2024-08-31T11:35:23.26857Z",
          "iopub.execute_input": "2024-08-31T11:35:23.269Z",
          "iopub.status.idle": "2024-08-31T11:35:23.277881Z",
          "shell.execute_reply.started": "2024-08-31T11:35:23.268953Z",
          "shell.execute_reply": "2024-08-31T11:35:23.276874Z"
        },
        "trusted": true,
        "id": "vmtVKAwCBcQZ"
      },
      "execution_count": null,
      "outputs": []
    },
    {
      "cell_type": "code",
      "source": [
        "LR = 1e-3\n",
        "model_transformer.compile(optimizer=RMSprop(LR),loss='sparse_categorical_crossentropy',metrics=['accuracy'])\n",
        "callbacks = [ReduceLROnPlateau(monitor=\"val_loss\",patience=5,factor=0.1),\n",
        "             EarlyStopping(monitor='val_loss',patience=6)\n",
        "            ]\n",
        "\n",
        "\n",
        ""
      ],
      "metadata": {
        "execution": {
          "iopub.status.busy": "2024-08-31T11:35:23.279066Z",
          "iopub.execute_input": "2024-08-31T11:35:23.279384Z",
          "iopub.status.idle": "2024-08-31T11:35:23.301119Z",
          "shell.execute_reply.started": "2024-08-31T11:35:23.279351Z",
          "shell.execute_reply": "2024-08-31T11:35:23.300106Z"
        },
        "trusted": true,
        "id": "Z8oIj-47BcQc"
      },
      "execution_count": null,
      "outputs": []
    },
    {
      "cell_type": "code",
      "source": [
        "model_history = model_transformer.fit(train_dataset,batch_size=batch_size,epochs=epochs,validation_data=valid_dataset,callbacks=callbacks)"
      ],
      "metadata": {
        "execution": {
          "iopub.status.busy": "2024-08-31T11:35:23.302428Z",
          "iopub.execute_input": "2024-08-31T11:35:23.303142Z",
          "iopub.status.idle": "2024-08-31T13:03:37.709085Z",
          "shell.execute_reply.started": "2024-08-31T11:35:23.303095Z",
          "shell.execute_reply": "2024-08-31T13:03:37.708202Z"
        },
        "trusted": true,
        "id": "q29DtLjbBcQc",
        "outputId": "0574a26a-4798-4d1b-8423-1c30373e1a4b"
      },
      "execution_count": null,
      "outputs": [
        {
          "name": "stdout",
          "text": "Epoch 1/50\n",
          "output_type": "stream"
        },
        {
          "name": "stderr",
          "text": "WARNING: All log messages before absl::InitializeLog() is called are written to STDERR\nI0000 00:00:1725104130.085031     149 service.cc:145] XLA service 0x7e9dc4002f70 initialized for platform CUDA (this does not guarantee that XLA will be used). Devices:\nI0000 00:00:1725104130.085088     149 service.cc:153]   StreamExecutor device (0): Tesla P100-PCIE-16GB, Compute Capability 6.0\nW0000 00:00:1725104130.499319     149 assert_op.cc:38] Ignoring Assert operator compile_loss/sparse_categorical_crossentropy/SparseSoftmaxCrossEntropyWithLogits/assert_equal_1/Assert/Assert\n",
          "output_type": "stream"
        },
        {
          "name": "stdout",
          "text": "\u001b[1m   1/2675\u001b[0m \u001b[37m━━━━━━━━━━━━━━━━━━━━\u001b[0m \u001b[1m14:08:51\u001b[0m 19s/step - accuracy: 0.0000e+00 - loss: 10.8015",
          "output_type": "stream"
        },
        {
          "name": "stderr",
          "text": "I0000 00:00:1725104142.286933     149 device_compiler.h:188] Compiled cluster using XLA!  This line is logged at most once for the lifetime of the process.\n",
          "output_type": "stream"
        },
        {
          "name": "stdout",
          "text": "\u001b[1m2674/2675\u001b[0m \u001b[32m━━━━━━━━━━━━━━━━━━━\u001b[0m\u001b[37m━\u001b[0m \u001b[1m0s\u001b[0m 660ms/step - accuracy: 0.8371 - loss: 1.3172",
          "output_type": "stream"
        },
        {
          "name": "stderr",
          "text": "W0000 00:00:1725105906.109579     150 assert_op.cc:38] Ignoring Assert operator compile_loss/sparse_categorical_crossentropy/SparseSoftmaxCrossEntropyWithLogits/assert_equal_1/Assert/Assert\n",
          "output_type": "stream"
        },
        {
          "name": "stdout",
          "text": "\u001b[1m2675/2675\u001b[0m \u001b[32m━━━━━━━━━━━━━━━━━━━━\u001b[0m\u001b[37m\u001b[0m \u001b[1m0s\u001b[0m 663ms/step - accuracy: 0.8371 - loss: 1.3171",
          "output_type": "stream"
        },
        {
          "name": "stderr",
          "text": "W0000 00:00:1725105917.793928     150 assert_op.cc:38] Ignoring Assert operator compile_loss/sparse_categorical_crossentropy/SparseSoftmaxCrossEntropyWithLogits/assert_equal_1/Assert/Assert\nW0000 00:00:1725106630.773686     150 assert_op.cc:38] Ignoring Assert operator compile_loss/sparse_categorical_crossentropy/SparseSoftmaxCrossEntropyWithLogits/assert_equal_1/Assert/Assert\n",
          "output_type": "stream"
        },
        {
          "name": "stdout",
          "text": "\u001b[1m2675/2675\u001b[0m \u001b[32m━━━━━━━━━━━━━━━━━━━━\u001b[0m\u001b[37m\u001b[0m \u001b[1m2509s\u001b[0m 931ms/step - accuracy: 0.8371 - loss: 1.3170 - val_accuracy: 0.8837 - val_loss: 0.8126 - learning_rate: 0.0010\nEpoch 2/50\n\u001b[1m2675/2675\u001b[0m \u001b[32m━━━━━━━━━━━━━━━━━━━━\u001b[0m\u001b[37m\u001b[0m \u001b[1m155s\u001b[0m 58ms/step - accuracy: 0.8877 - loss: 0.7796 - val_accuracy: 0.9028 - val_loss: 0.6671 - learning_rate: 0.0010\nEpoch 3/50\n\u001b[1m2675/2675\u001b[0m \u001b[32m━━━━━━━━━━━━━━━━━━━━\u001b[0m\u001b[37m\u001b[0m \u001b[1m154s\u001b[0m 57ms/step - accuracy: 0.9043 - loss: 0.6340 - val_accuracy: 0.9106 - val_loss: 0.6106 - learning_rate: 0.0010\nEpoch 4/50\n\u001b[1m2675/2675\u001b[0m \u001b[32m━━━━━━━━━━━━━━━━━━━━\u001b[0m\u001b[37m\u001b[0m \u001b[1m152s\u001b[0m 57ms/step - accuracy: 0.9144 - loss: 0.5464 - val_accuracy: 0.9146 - val_loss: 0.5865 - learning_rate: 0.0010\nEpoch 5/50\n\u001b[1m2675/2675\u001b[0m \u001b[32m━━━━━━━━━━━━━━━━━━━━\u001b[0m\u001b[37m\u001b[0m \u001b[1m148s\u001b[0m 55ms/step - accuracy: 0.9220 - loss: 0.4849 - val_accuracy: 0.9173 - val_loss: 0.5776 - learning_rate: 0.0010\nEpoch 6/50\n\u001b[1m2675/2675\u001b[0m \u001b[32m━━━━━━━━━━━━━━━━━━━━\u001b[0m\u001b[37m\u001b[0m \u001b[1m144s\u001b[0m 54ms/step - accuracy: 0.9283 - loss: 0.4364 - val_accuracy: 0.9202 - val_loss: 0.5637 - learning_rate: 0.0010\nEpoch 7/50\n\u001b[1m2675/2675\u001b[0m \u001b[32m━━━━━━━━━━━━━━━━━━━━\u001b[0m\u001b[37m\u001b[0m \u001b[1m144s\u001b[0m 54ms/step - accuracy: 0.9333 - loss: 0.4000 - val_accuracy: 0.9219 - val_loss: 0.5693 - learning_rate: 0.0010\nEpoch 8/50\n\u001b[1m2675/2675\u001b[0m \u001b[32m━━━━━━━━━━━━━━━━━━━━\u001b[0m\u001b[37m\u001b[0m \u001b[1m145s\u001b[0m 54ms/step - accuracy: 0.9375 - loss: 0.3712 - val_accuracy: 0.9233 - val_loss: 0.5661 - learning_rate: 0.0010\nEpoch 9/50\n\u001b[1m2675/2675\u001b[0m \u001b[32m━━━━━━━━━━━━━━━━━━━━\u001b[0m\u001b[37m\u001b[0m \u001b[1m145s\u001b[0m 54ms/step - accuracy: 0.9414 - loss: 0.3476 - val_accuracy: 0.9242 - val_loss: 0.5716 - learning_rate: 0.0010\nEpoch 10/50\n\u001b[1m2675/2675\u001b[0m \u001b[32m━━━━━━━━━━━━━━━━━━━━\u001b[0m\u001b[37m\u001b[0m \u001b[1m145s\u001b[0m 54ms/step - accuracy: 0.9449 - loss: 0.3248 - val_accuracy: 0.9262 - val_loss: 0.5725 - learning_rate: 0.0010\nEpoch 11/50\n\u001b[1m2675/2675\u001b[0m \u001b[32m━━━━━━━━━━━━━━━━━━━━\u001b[0m\u001b[37m\u001b[0m \u001b[1m146s\u001b[0m 54ms/step - accuracy: 0.9479 - loss: 0.3058 - val_accuracy: 0.9252 - val_loss: 0.5866 - learning_rate: 0.0010\nEpoch 12/50\n\u001b[1m2675/2675\u001b[0m \u001b[32m━━━━━━━━━━━━━━━━━━━━\u001b[0m\u001b[37m\u001b[0m \u001b[1m145s\u001b[0m 54ms/step - accuracy: 0.9592 - loss: 0.2365 - val_accuracy: 0.9357 - val_loss: 0.4995 - learning_rate: 1.0000e-04\nEpoch 13/50\n\u001b[1m2675/2675\u001b[0m \u001b[32m━━━━━━━━━━━━━━━━━━━━\u001b[0m\u001b[37m\u001b[0m \u001b[1m150s\u001b[0m 56ms/step - accuracy: 0.9695 - loss: 0.1754 - val_accuracy: 0.9365 - val_loss: 0.4947 - learning_rate: 1.0000e-04\nEpoch 14/50\n\u001b[1m2675/2675\u001b[0m \u001b[32m━━━━━━━━━━━━━━━━━━━━\u001b[0m\u001b[37m\u001b[0m \u001b[1m148s\u001b[0m 55ms/step - accuracy: 0.9735 - loss: 0.1519 - val_accuracy: 0.9368 - val_loss: 0.4947 - learning_rate: 1.0000e-04\nEpoch 15/50\n\u001b[1m2675/2675\u001b[0m \u001b[32m━━━━━━━━━━━━━━━━━━━━\u001b[0m\u001b[37m\u001b[0m \u001b[1m145s\u001b[0m 54ms/step - accuracy: 0.9763 - loss: 0.1351 - val_accuracy: 0.9371 - val_loss: 0.4953 - learning_rate: 1.0000e-04\nEpoch 16/50\n\u001b[1m2675/2675\u001b[0m \u001b[32m━━━━━━━━━━━━━━━━━━━━\u001b[0m\u001b[37m\u001b[0m \u001b[1m144s\u001b[0m 54ms/step - accuracy: 0.9786 - loss: 0.1225 - val_accuracy: 0.9372 - val_loss: 0.4970 - learning_rate: 1.0000e-04\nEpoch 17/50\n\u001b[1m2675/2675\u001b[0m \u001b[32m━━━━━━━━━━━━━━━━━━━━\u001b[0m\u001b[37m\u001b[0m \u001b[1m144s\u001b[0m 54ms/step - accuracy: 0.9805 - loss: 0.1122 - val_accuracy: 0.9372 - val_loss: 0.4987 - learning_rate: 1.0000e-04\nEpoch 18/50\n\u001b[1m2675/2675\u001b[0m \u001b[32m━━━━━━━━━━━━━━━━━━━━\u001b[0m\u001b[37m\u001b[0m \u001b[1m144s\u001b[0m 54ms/step - accuracy: 0.9819 - loss: 0.1032 - val_accuracy: 0.9371 - val_loss: 0.5027 - learning_rate: 1.0000e-04\nEpoch 19/50\n\u001b[1m2675/2675\u001b[0m \u001b[32m━━━━━━━━━━━━━━━━━━━━\u001b[0m\u001b[37m\u001b[0m \u001b[1m143s\u001b[0m 54ms/step - accuracy: 0.9835 - loss: 0.0940 - val_accuracy: 0.9373 - val_loss: 0.5005 - learning_rate: 1.0000e-05\nEpoch 20/50\n\u001b[1m2675/2675\u001b[0m \u001b[32m━━━━━━━━━━━━━━━━━━━━\u001b[0m\u001b[37m\u001b[0m \u001b[1m143s\u001b[0m 54ms/step - accuracy: 0.9841 - loss: 0.0916 - val_accuracy: 0.9374 - val_loss: 0.5005 - learning_rate: 1.0000e-05\n",
          "output_type": "stream"
        }
      ]
    },
    {
      "cell_type": "code",
      "source": [
        "import matplotlib.pyplot as plt\n",
        "loss = model_history.history['loss']\n",
        "valid_loss = model_history.history['val_loss']\n",
        "plt.plot(loss,color='r',label='train_loss')\n",
        "plt.plot(valid_loss,color='b',label='valid_loss')\n",
        "plt.xlabel('Epochs')\n",
        "plt.ylabel('Loss')\n",
        "plt.legend()\n",
        "plt.show()"
      ],
      "metadata": {
        "execution": {
          "iopub.status.busy": "2024-08-31T13:03:37.715815Z",
          "iopub.execute_input": "2024-08-31T13:03:37.716129Z",
          "iopub.status.idle": "2024-08-31T13:03:37.994537Z",
          "shell.execute_reply.started": "2024-08-31T13:03:37.716097Z",
          "shell.execute_reply": "2024-08-31T13:03:37.993628Z"
        },
        "trusted": true,
        "id": "EQJ3AaYGBcQc",
        "outputId": "7c0dfedf-969b-4109-ac07-a9852f10b498"
      },
      "execution_count": null,
      "outputs": [
        {
          "output_type": "display_data",
          "data": {
            "text/plain": "<Figure size 640x480 with 1 Axes>",
            "image/png": "[encoded data removed]"
          },
          "metadata": {}
        }
      ]
    },
    {
      "cell_type": "code",
      "source": [
        "def preprocessing_text_2(data):\n",
        "#     tf.print(\"data (before decode):\", data)\n",
        "\n",
        "#     data = data.item()\n",
        "#     data = data.decode()\n",
        "\n",
        "    data = data.translate(str.maketrans('','',modified_punctuation)).strip().lower()\n",
        "#     tf.print(\"data (after preprocessing):\", data)\n",
        "#     data = tf.convert_to_tensor(data)\n",
        "    return tf.cast(data,tf.string)"
      ],
      "metadata": {
        "execution": {
          "iopub.status.busy": "2024-08-31T13:03:37.995783Z",
          "iopub.execute_input": "2024-08-31T13:03:37.996194Z",
          "iopub.status.idle": "2024-08-31T13:03:38.00173Z",
          "shell.execute_reply.started": "2024-08-31T13:03:37.996149Z",
          "shell.execute_reply": "2024-08-31T13:03:38.000781Z"
        },
        "trusted": true,
        "id": "C8PDCprJBcQc"
      },
      "execution_count": null,
      "outputs": []
    },
    {
      "cell_type": "code",
      "source": [
        "vocabulary = target_vectorization.get_vocabulary()\n",
        "target_dic = dict(zip(range(len(vocabulary)),vocabulary))\n",
        "max_seq_length = 30\n",
        "\n",
        "def decoded_sentence(sentence):\n",
        "    modified_sentence = preprocessing_text_2(sentence)\n",
        "    input_source = source_vectorization([modified_sentence])\n",
        "#     print(f\"input_source:{input_source}\")\n",
        "    decoded_word = '[start]'\n",
        "    for idx in range(max_seq_length):\n",
        "        vectorized_word = target_vectorization([decoded_word])[:,:-1]\n",
        "        predications = model_transformer([input_source,vectorized_word])\n",
        "        target_idx = np.argmax(predications[0,idx,:])\n",
        "        predicated_word = target_dic[target_idx]\n",
        "        decoded_word += \" \"+ predicated_word\n",
        "        if predicated_word == '[end]':\n",
        "            break\n",
        "\n",
        "    return decoded_word\n",
        ""
      ],
      "metadata": {
        "execution": {
          "iopub.status.busy": "2024-08-31T13:03:38.00327Z",
          "iopub.execute_input": "2024-08-31T13:03:38.003693Z",
          "iopub.status.idle": "2024-08-31T13:03:38.103668Z",
          "shell.execute_reply.started": "2024-08-31T13:03:38.003651Z",
          "shell.execute_reply": "2024-08-31T13:03:38.102898Z"
        },
        "trusted": true,
        "id": "-t3gecRqBcQd"
      },
      "execution_count": null,
      "outputs": []
    },
    {
      "cell_type": "code",
      "source": [
        "for i in np.random.randint(0,len(source_test),50):\n",
        "    input_sent = source_test[i]\n",
        "    predicated = decoded_sentence(input_sent)\n",
        "    actual = target_test[i]\n",
        "    print(f\"input:{input_sent}\")\n",
        "    print(f\"predicated:{predicated}\")\n",
        "    print(f\"Actual_output:{actual}\")\n",
        "    print()\n",
        ""
      ],
      "metadata": {
        "execution": {
          "iopub.status.busy": "2024-08-31T13:03:38.104767Z",
          "iopub.execute_input": "2024-08-31T13:03:38.105147Z",
          "iopub.status.idle": "2024-08-31T13:05:20.177654Z",
          "shell.execute_reply.started": "2024-08-31T13:03:38.105105Z",
          "shell.execute_reply": "2024-08-31T13:05:20.176701Z"
        },
        "trusted": true,
        "id": "mcvuaYa2BcQd",
        "outputId": "d10d0c42-37f3-46f9-a613-49d1463a26c9"
      },
      "execution_count": null,
      "outputs": [
        {
          "name": "stdout",
          "text": "input:[start]vielleicht sollten wir uns morgen noch einmal unterhalten[end]\npredicated:[start] may be talking to us again[end]                        \nActual_output:[start]maybe we should talk again tomorrow[end]\n\ninput:[start]ich werde im portside hotel ubernachten[end]\npredicated:[start] me to stay at the hotel for the hotel[end]                     \nActual_output:[start]ill be staying at the portside hotel[end]\n\ninput:[start]tom will junger aussehen[end]\npredicated:[start] look younger[end]                            \nActual_output:[start]tom wants to look younger[end]\n\ninput:[start]dieses medikament wird ihre erkaltung heilen[end]\npredicated:[start] medicine will cure your cold[end]                         \nActual_output:[start]this medicine will cure your cold[end]\n\ninput:[start]sei netter zu deinem bruder[end]\npredicated:[start] are a nice to your brother[end]                        \nActual_output:[start]be nicer to your brother[end]\n\ninput:[start]ich lasse meinen regenschirm immer im zug liegen[end]\npredicated:[start] i always leave my umbrella in the train[end]                      \nActual_output:[start]i always leave my umbrella on the train[end]\n\ninput:[start]mach es selber[end]\npredicated:[start] it by yourself[end]                           \nActual_output:[start]do it yourself[end]\n\ninput:[start]noch ein stuck kuchen[end]\npredicated:[start] a piece of cake[end]                          \nActual_output:[start]how about another piece of cake[end]\n\ninput:[start]ich habe viel zu sagen[end]\npredicated:[start] me a lot of say[end]                         \nActual_output:[start]i got a lot to say[end]\n\ninput:[start]morgens nehme ich nur toast und kaffee[end]\npredicated:[start] only do me a toast and take coffee[end]                      \nActual_output:[start]i only have toast and coffee in the morning[end]\n\ninput:[start]ich habe es nicht kommen sehen[end]\npredicated:[start] me not see it coming[end]                         \nActual_output:[start]i didnt see that coming[end]\n\ninput:[start]das ist ihr buch[end]\npredicated:[start] is your book[end]                           \nActual_output:[start]that is your book[end]\n\ninput:[start]ich bin offen fur anregungen[end]\npredicated:[start] is open for a visa[end]                         \nActual_output:[start]im wide open for suggestions[end]\n\ninput:[start]sie lugen nie[end]\npredicated:[start] never lie[end]                            \nActual_output:[start]they never tell a lie[end]\n\ninput:[start]beschwer dich nicht[end]\npredicated:[start] arent yours[end]                            \nActual_output:[start]dont complain[end]\n\ninput:[start]ich habe eine eins bekommen[end]\npredicated:[start] i got one please[end]                          \nActual_output:[start]i got an a[end]\n\ninput:[start]tom versucht dir angst einzujagen[end]\npredicated:[start] is trying to scare you[end]                         \nActual_output:[start]tom is trying to scare you[end]\n\ninput:[start]sein haar wurde immer dunner[end]\npredicated:[start] hair was always been put on my shoulders[end]                      \nActual_output:[start]his hair got thinner and thinner[end]\n\ninput:[start]er hat meinen geburtstag vergessen[end]\npredicated:[start] he forgot my birthday[end]                          \nActual_output:[start]he forgot my birthday[end]\n\ninput:[start]ich hielt die tur geschlossen[end]\npredicated:[start] i kept the door closed[end]                         \nActual_output:[start]i kept the door locked[end]\n\ninput:[start]was haltst du davon[end]\npredicated:[start] do you think about it[end]                         \nActual_output:[start]what do you think about that[end]\n\ninput:[start]tom wusste nichts[end]\npredicated:[start] didnt know anything[end]                           \nActual_output:[start]tom knew nothing[end]\n\ninput:[start]ich will wissen wo sie sind[end]\npredicated:[start] i want to know where you are[end]                       \nActual_output:[start]i want to know where they are[end]\n\ninput:[start]er wurde prasident der firma im alter von jahren[end]\npredicated:[start] the president was the business from older age[end]                      \nActual_output:[start]he became the company president when he was thirty[end]\n\ninput:[start]ich fand das zimmer leer vor[end]\npredicated:[start] me to it was empty for myself[end]                       \nActual_output:[start]i found the room empty[end]\n\ninput:[start]ich flehe dich an mir zu helfen[end]\npredicated:[start] i am begging to help you[end]                        \nActual_output:[start]i beg you to help me[end]\n\ninput:[start]ich habe diesen staubsauger umsonst bekommen[end]\npredicated:[start] me get this vacuum for nothing[end]                        \nActual_output:[start]i got this vacuum cleaner for nothing[end]\n\ninput:[start]wir sind sehr aufgeregt[end]\npredicated:[start] are very excited[end]                           \nActual_output:[start]were very excited[end]\n\ninput:[start]tom erwartet anscheinend dass maria etwas tut[end]\npredicated:[start] seems to be doing something to do[end]                       \nActual_output:[start]tom seems to be expecting mary to do something[end]\n\ninput:[start]meine schwester wiegt sich immer[end]\npredicated:[start] sister always weighs himself[end]                          \nActual_output:[start]my sister is always weighing herself[end]\n\ninput:[start]noch langer warten scheint zeitverschwendung zu sein[end]\npredicated:[start] more time to be a waste of time[end]                      \nActual_output:[start]it seems a waste of time to wait any longer[end]\n\ninput:[start]ich kann nicht glauben dass ich mich gerade mit dir daruber unterhalte[end]\npredicated:[start] cant believe im talking to you about this[end]                      \nActual_output:[start]i cant believe im talking to you about this[end]\n\ninput:[start]tom redet oft uber golf[end]\npredicated:[start] often talks about golf[end]                          \nActual_output:[start]tom often talks about golf[end]\n\ninput:[start]ich muss diesen artikel lesen[end]\npredicated:[start] must read this article[end]                          \nActual_output:[start]i have to read this article[end]\n\ninput:[start]mehrere kinder drangten sich um das feuer zusammen[end]\npredicated:[start] children pushed their names[end]                          \nActual_output:[start]several children were huddled around the fire[end]\n\ninput:[start]das sind funfzig yen[end]\npredicated:[start] are fifty yen[end]                           \nActual_output:[start]its yen[end]\n\ninput:[start]ich traf ihn als ich gerade auf dem weg von der schule nach hause war[end]\npredicated:[start] i met him when i was at home from school[end]                    \nActual_output:[start]i met him on my way home from school[end]\n\ninput:[start]es war nicht tom derjenige der maria kusste[end]\npredicated:[start] didnt tom the one who met mary[end]                       \nActual_output:[start]it wasnt tom who kissed mary[end]\n\ninput:[start]ich kann nicht an alles denken[end]\npredicated:[start] cant think about everything[end]                          \nActual_output:[start]i cant think of everything[end]\n\ninput:[start]unter dem sofa liegt eine fernbedienung[end]\npredicated:[start] is a remote[end]                           \nActual_output:[start]there is a tv remote control under the couch[end]\n\ninput:[start]ich kummere mich darum[end]\npredicated:[start] me to do this[end]                          \nActual_output:[start]ill take care of that[end]\n\ninput:[start]horen sie auf mich so anzustarren[end]\npredicated:[start] on me like that[end]                          \nActual_output:[start]stop staring at me like that[end]\n\ninput:[start]die firma belohnte ihn mit einer beforderung[end]\npredicated:[start] company him to take him a promotion[end]                       \nActual_output:[start]the company rewarded him with promotion[end]\n\ninput:[start]ich habe dir gesagt dass du diesen morgen punktlich hier sein sollst[end]\npredicated:[start] i told you to get this morning here tomorrow time[end]                    \nActual_output:[start]i told you to be here on time this morning[end]\n\ninput:[start]du siehst wohl gespenster tom[end]\npredicated:[start] is probably tom looking for[end]                         \nActual_output:[start]youre imagining things tom[end]\n\ninput:[start]die mauer war mit graffiti bedeckt[end]\npredicated:[start] wall was covered with fun[end]                         \nActual_output:[start]the wall was covered with graffiti[end]\n\ninput:[start]tom macht im franzosischen gute fortschritte[end]\npredicated:[start] makes the french good time[end]                         \nActual_output:[start]tom is making great progress in french[end]\n\ninput:[start]welchen bus mu ich nach rampa nehmen[end]\npredicated:[start] bus has to made for that bus[end]                       \nActual_output:[start]what bus do i take to get to rampa[end]\n\ninput:[start]ich habe die arbeitsstelle gewechselt[end]\npredicated:[start] my job[end]                            \nActual_output:[start]ive changed my job[end]\n\ninput:[start]ist tom mitglied im schwimmverein[end]\npredicated:[start] tom drive a member of love[end]                        \nActual_output:[start]is tom a member of the swimming club[end]\n\n",
          "output_type": "stream"
        }
      ]
    }
  ]
}